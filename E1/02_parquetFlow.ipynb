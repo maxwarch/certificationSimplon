{
 "cells": [
  {
   "cell_type": "code",
   "execution_count": null,
   "metadata": {},
   "outputs": [],
   "source": [
    "import pyarrow.parquet as pq\n",
    "import pandas as pd\n",
    "import io\n",
    "from PIL import Image\n",
    "\n",
    "parquet_file = pq.ParquetFile('./data/product_eval/test-00000-of-00003.parquet')\n",
    "\n",
    "for i in parquet_file.iter_batches(2):\n",
    "    print(i)\n",
    "    df_parquet = i.to_pandas()\n",
    "    break\n",
    "\n",
    "print(df_parquet.head(2))\n",
    "img = dict(df_parquet.iloc[0].loc['image'])\n",
    "img['bytes']"
   ]
  },
  {
   "cell_type": "code",
   "execution_count": null,
   "metadata": {},
   "outputs": [],
   "source": [
    "path = 'data/images/'\n",
    "\n",
    "def convert_image(x):\n",
    "    img = dict(x['image'])\n",
    "    image = Image.open(io.BytesIO(img['bytes']))\n",
    "    image.save(f'{path}{x['item_ID']}.jpg', 'jpeg')\n",
    "\n",
    "#df_parquet.apply(convert_image, axis=1)"
   ]
  },
  {
   "cell_type": "code",
   "execution_count": null,
   "metadata": {},
   "outputs": [],
   "source": [
    "def file_iterator(file_name, batch_size):\n",
    "    parquet_file = pq.ParquetFile(file_name)\n",
    "    for record_batch in parquet_file.iter_batches(batch_size=batch_size, columns=['image', 'item_ID']):\n",
    "        for d in record_batch.to_pylist():\n",
    "            yield d\n",
    "\n",
    "for row in file_iterator('./data/product_eval/test-00000-of-00003.parquet', 1):\n",
    "    convert_image(row)"
   ]
  }
 ],
 "metadata": {
  "kernelspec": {
   "display_name": "Python 3",
   "language": "python",
   "name": "python3"
  },
  "language_info": {
   "codemirror_mode": {
    "name": "ipython",
    "version": 3
   },
   "file_extension": ".py",
   "mimetype": "text/x-python",
   "name": "python",
   "nbconvert_exporter": "python",
   "pygments_lexer": "ipython3",
   "version": "3.12.7"
  }
 },
 "nbformat": 4,
 "nbformat_minor": 2
}
